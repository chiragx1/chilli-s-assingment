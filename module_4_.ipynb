{
 "cells": [
  {
   "cell_type": "code",
   "execution_count": null,
   "id": "26ca659b",
   "metadata": {},
   "outputs": [],
   "source": [
    "#1.What is File function in python? What is keywords to create and write file.\n",
    "#Python file object provides methods and attributes to access and manipulate files. Using file objects, we can read or write\n",
    "#any files. Whenever we open a file to perform any operations on it, Python returns a file object\n",
    "#To create a file keyword is 'x' and for write a file keyword is 'w'. "
   ]
  },
  {
   "cell_type": "code",
   "execution_count": null,
   "id": "863050ed",
   "metadata": {},
   "outputs": [],
   "source": [
    "#2.Write a Python program to read an entire text file.\n",
    "file1 = open('new.txt','r')\n",
    "file1.read()"
   ]
  },
  {
   "cell_type": "code",
   "execution_count": null,
   "id": "626d8c0f",
   "metadata": {},
   "outputs": [],
   "source": [
    "#3.Write a Python program to append text to a file and display the text.\n",
    "# file1 = open('new.txt','a')\n",
    "# file1.write('this is append mode')\n",
    "# file1.close()\n",
    "file1 = open('new.txt','r')\n",
    "file1.read()"
   ]
  },
  {
   "cell_type": "code",
   "execution_count": null,
   "id": "6d40641a",
   "metadata": {},
   "outputs": [],
   "source": [
    "#4.Write a Python program to read first n lines of a file.\n",
    "file1.seek(0)\n",
    "f1 = file1.readlines(1)\n",
    "f1"
   ]
  },
  {
   "cell_type": "code",
   "execution_count": null,
   "id": "e2887152",
   "metadata": {},
   "outputs": [],
   "source": [
    "#5.Write a Python program to read last n lines of a file.\n",
    "file1 = open('new.txt','r')\n",
    "f1 = file1.readlines()\n",
    "for i in f1[-1]:\n",
    "    print(i, end='')"
   ]
  },
  {
   "cell_type": "code",
   "execution_count": null,
   "id": "8d37e380",
   "metadata": {},
   "outputs": [],
   "source": [
    "#6.Write a Python program to read a file line by line and store it into a list\n",
    "file1 = open('new.txt','r')\n",
    "file1.readlines()"
   ]
  },
  {
   "cell_type": "code",
   "execution_count": null,
   "id": "52fba8ba",
   "metadata": {},
   "outputs": [],
   "source": [
    "#7.Write a Python program to read a file line by line store it into a variable.\n",
    "file1 = open('new.txt','r')\n",
    "f1 = file1.readlines()\n",
    "print(f1)"
   ]
  },
  {
   "cell_type": "code",
   "execution_count": null,
   "id": "ca5cd252",
   "metadata": {},
   "outputs": [],
   "source": [
    "#8.Write a python program to find the longest words.\n",
    "f1 = ['hi','bhigh','sleeeeeeeeeey','z','python']\n",
    "d1 = {}\n",
    "for key in f1:\n",
    "    d1.setdefault(key,len(key))\n",
    "l = sorted(d1,key=len,reverse = True)\n",
    "print(l[0])\n",
    "# print(d1)\n",
    "# print(d1.items())\n",
    "# long = sorted(d1.items(),key = lambda x:x[1])\n",
    "# print(long)\n",
    "# print(long[-1][0])\n",
    "# # print(long[0])"
   ]
  },
  {
   "cell_type": "code",
   "execution_count": null,
   "id": "de75aef9",
   "metadata": {},
   "outputs": [],
   "source": [
    "#9.Write a Python program to count the number of lines in a text file.\n",
    "f1=open('new.txt','r')\n",
    "var1=len(f1.readlines())\n",
    "print(var1)"
   ]
  },
  {
   "cell_type": "code",
   "execution_count": null,
   "id": "185df385",
   "metadata": {},
   "outputs": [],
   "source": [
    "#(10)Write a Python program to count the frequency of words in a file\n",
    "f1=open('new.txt','r')\n",
    "f2=f1.read()\n",
    "str1=str(f2)\n",
    "print(f2)\n",
    "l1=str1.split()\n",
    "print(l1)\n",
    "for i in l1:\n",
    "    if i in l1:\n",
    "        pass\n",
    "    else:\n",
    "        temp+=i\n",
    "    print(i,'=',l1.count(i),end=' , ')"
   ]
  },
  {
   "cell_type": "code",
   "execution_count": null,
   "id": "7eeeb842",
   "metadata": {},
   "outputs": [],
   "source": [
    "#(11) Write a Python program to write a list to a file\n",
    "# file1 = open('new.txt','a')\n",
    "# file1.write('[1,7,9,8,4,6]')\n",
    "# print(file1)\n",
    "# f1.close()\n",
    "file1 = open('new.txt','r')\n",
    "print(file1.read())\n",
    "f2.close"
   ]
  },
  {
   "cell_type": "code",
   "execution_count": null,
   "id": "09e71bdf",
   "metadata": {},
   "outputs": [],
   "source": [
    "#(12)Write a Python program to copy the contents of a file to another file.\n",
    "file1 = open('new.txt','r')\n",
    "old = file1.readlines()\n",
    "print(old)\n",
    "f1.close()\n",
    "file2 = open('new2.txt','w')\n",
    "file2.write(file1.read())\n",
    "f2 = open('new.txt','r')\n",
    "print(f2.read())\n",
    "f2.close()"
   ]
  },
  {
   "cell_type": "code",
   "execution_count": null,
   "id": "9343531a",
   "metadata": {},
   "outputs": [],
   "source": [
    "# (13) Explain Exception handling? What is an Error in Python?\n",
    "# when we write a code we know/thought where is the error occers so\n",
    "# we use exception handling(try & except)\\n\",\n",
    "# to resolve the error without stoping compiler,because if error on first line then code stops on \\n\",\n",
    "# first line and code excution break.\\n\",\n",
    "# errors apart from SyntexError are including exception handling.\\n\",\n",
    "# major types of error:-\\n\",\n",
    "#   1 NameError\\n\",\n",
    "#   2 TypeError\\n\",\n",
    "#   3 ValueError\\n\",\n",
    "#   4 IndexError\\n\",\n",
    "#   5 KeyError\\n\",\n",
    "#   6 ZeroDivisionError\\"
   ]
  },
  {
   "cell_type": "code",
   "execution_count": null,
   "id": "dca7ff97",
   "metadata": {},
   "outputs": [],
   "source": [
    "#(14)How many except statements can a try-except block have? Name Some built-in exception classes:\n",
    "#try and except have multiple block in code just we use one try boc then except boc\n",
    "#  1 NameError\n",
    "#    2 TypeError\n",
    "#    3 ValueError\n",
    "#    4 IndexError\n",
    "#    5 KeyError\n",
    "#    6 ZeroDivisionError\n",
    "# if we dont know the error then we use except block for rest of errors"
   ]
  },
  {
   "cell_type": "code",
   "execution_count": null,
   "id": "0af768d4",
   "metadata": {},
   "outputs": [],
   "source": [
    "#(15) When will the else part of try-except-else be executed?\n",
    "# the else part is excuted when no exception occers"
   ]
  },
  {
   "cell_type": "code",
   "execution_count": null,
   "id": "54b56c0c",
   "metadata": {},
   "outputs": [],
   "source": [
    "#(16) Can one block of except statements handle multiple exception?\n",
    "#yes.With the use of expert block"
   ]
  },
  {
   "cell_type": "code",
   "execution_count": null,
   "id": "b326aef0",
   "metadata": {},
   "outputs": [],
   "source": [
    "#(17)When is the finally block executed\n",
    "#it will excute always/everytime with or without exception raised and we use it foe utility task"
   ]
  },
  {
   "cell_type": "code",
   "execution_count": null,
   "id": "78d6a667",
   "metadata": {},
   "outputs": [],
   "source": [
    "#(18) What happens when „1‟== 1 is executed?\n",
    "\"1\"==1"
   ]
  },
  {
   "cell_type": "code",
   "execution_count": null,
   "id": "a8d52e5a",
   "metadata": {},
   "outputs": [],
   "source": [
    "#(19) How Do You Handle Exceptions With Try/Except/Finally In Python? Explain with coding snippets.\n",
    "try:\n",
    "    n = input()\n",
    "    print(n/5)\n",
    "except:\n",
    "    print('add int')\n",
    "finally:\n",
    "    print('it is final')"
   ]
  },
  {
   "cell_type": "code",
   "execution_count": null,
   "id": "3443276d",
   "metadata": {},
   "outputs": [],
   "source": [
    "#(20) Write python program that user to enter only odd numbers, else will raise an exception\n",
    "class OddError(Exception):\n",
    "    pass\n",
    "n = int(input())\n",
    "if n % 2 == 0:\n",
    "    raise OddError('enter odd number')\n",
    "else:\n",
    "    print('odd')"
   ]
  }
 ],
 "metadata": {
  "kernelspec": {
   "display_name": "Python 3 (ipykernel)",
   "language": "python",
   "name": "python3"
  },
  "language_info": {
   "codemirror_mode": {
    "name": "ipython",
    "version": 3
   },
   "file_extension": ".py",
   "mimetype": "text/x-python",
   "name": "python",
   "nbconvert_exporter": "python",
   "pygments_lexer": "ipython3",
   "version": "3.9.12"
  }
 },
 "nbformat": 4,
 "nbformat_minor": 5
}
